{
 "cells": [
  {
   "cell_type": "markdown",
   "id": "7ca6e1f3-1f55-4add-8a08-51cf9f883afb",
   "metadata": {},
   "source": [
    "testing the new ssh key"
   ]
  },
  {
   "cell_type": "markdown",
   "id": "910c60d1-b8c4-4697-8705-68673334db0d",
   "metadata": {},
   "source": []
  },
  {
   "cell_type": "code",
   "execution_count": null,
   "id": "96ccf8e4-8491-4558-9d52-ee3a8fe66637",
   "metadata": {},
   "outputs": [],
   "source": []
  }
 ],
 "metadata": {
  "kernelspec": {
   "display_name": "Python 3 (ipykernel)",
   "language": "python",
   "name": "python3"
  },
  "language_info": {
   "codemirror_mode": {
    "name": "ipython",
    "version": 3
   },
   "file_extension": ".py",
   "mimetype": "text/x-python",
   "name": "python",
   "nbconvert_exporter": "python",
   "pygments_lexer": "ipython3",
   "version": "3.9.7"
  }
 },
 "nbformat": 4,
 "nbformat_minor": 5
}
