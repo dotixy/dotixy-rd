{
 "cells": [
  {
   "cell_type": "markdown",
   "id": "7ca6e1f3-1f55-4add-8a08-51cf9f883afb",
   "metadata": {},
   "source": [
    "testing the instance generator..."
   ]
  },
  {
   "cell_type": "code",
   "execution_count": 86,
   "id": "96ccf8e4-8491-4558-9d52-ee3a8fe66637",
   "metadata": {},
   "outputs": [
    {
     "ename": "ModuleNotFoundError",
     "evalue": "No module named 'dotixy'",
     "output_type": "error",
     "traceback": [
      "\u001b[0;31m---------------------------------------------------------------------------\u001b[0m",
      "\u001b[0;31mModuleNotFoundError\u001b[0m                       Traceback (most recent call last)",
      "\u001b[0;32m/tmp/ipykernel_5863/3129913877.py\u001b[0m in \u001b[0;36m<module>\u001b[0;34m\u001b[0m\n\u001b[1;32m      1\u001b[0m \u001b[0;32mimport\u001b[0m \u001b[0mnumpy\u001b[0m \u001b[0;32mas\u001b[0m \u001b[0mnp\u001b[0m\u001b[0;34m\u001b[0m\u001b[0;34m\u001b[0m\u001b[0m\n\u001b[0;32m----> 2\u001b[0;31m \u001b[0;32mimport\u001b[0m \u001b[0mdotixy\u001b[0m\u001b[0;34m.\u001b[0m\u001b[0mrouting\u001b[0m \u001b[0;32mas\u001b[0m \u001b[0minstance_generator\u001b[0m\u001b[0;34m\u001b[0m\u001b[0;34m\u001b[0m\u001b[0m\n\u001b[0m",
      "\u001b[0;31mModuleNotFoundError\u001b[0m: No module named 'dotixy'"
     ]
    }
   ],
   "source": [
    "import numpy as np\n",
    "import dotixy.routing as instance_generator"
   ]
  },
  {
   "cell_type": "code",
   "execution_count": 81,
   "id": "8d5999ca-0c67-4599-89fc-70f87e91e28e",
   "metadata": {},
   "outputs": [],
   "source": [
    "generator = instance_generator(num_customers=10, num_vehicles=3, capacity=20)"
   ]
  },
  {
   "cell_type": "code",
   "execution_count": 82,
   "id": "5566101e-b769-48fa-b824-820cd4266597",
   "metadata": {},
   "outputs": [],
   "source": [
    "instance = generator.generate(seed=3)"
   ]
  },
  {
   "cell_type": "code",
   "execution_count": 83,
   "id": "8f0fa405-df92-42db-a5bd-81a1e61e6b22",
   "metadata": {},
   "outputs": [
    {
     "name": "stdout",
     "output_type": "stream",
     "text": [
      "[[90.0, 85.0, 0.0], [55.0, 71.0, 5], [29.0, 51.0, 4], [89.0, 90.0, 6], [13.0, 21.0, 1], [5.0, 44.0, 8], [3.0, 46.0, 8], [65.0, 28.0, 3], [68.0, 59.0, 9], [2.0, 56.0, 7], [26.0, 42.0, 0]]\n"
     ]
    }
   ],
   "source": [
    "print(instance)\n",
    "# Perform additional operations on the generated instance\n"
   ]
  },
  {
   "cell_type": "code",
   "execution_count": null,
   "id": "bfa9af83-7c0d-4973-ae34-4385a2e30840",
   "metadata": {},
   "outputs": [],
   "source": []
  },
  {
   "cell_type": "code",
   "execution_count": null,
   "id": "fc807e95-9d79-4fd6-885f-ac822960ca7e",
   "metadata": {},
   "outputs": [],
   "source": []
  }
 ],
 "metadata": {
  "kernelspec": {
   "display_name": "Python 3 (ipykernel)",
   "language": "python",
   "name": "python3"
  },
  "language_info": {
   "codemirror_mode": {
    "name": "ipython",
    "version": 3
   },
   "file_extension": ".py",
   "mimetype": "text/x-python",
   "name": "python",
   "nbconvert_exporter": "python",
   "pygments_lexer": "ipython3",
   "version": "3.9.7"
  }
 },
 "nbformat": 4,
 "nbformat_minor": 5
}
